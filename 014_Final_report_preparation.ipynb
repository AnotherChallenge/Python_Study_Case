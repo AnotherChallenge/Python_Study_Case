{
 "cells": [
  {
   "cell_type": "markdown",
   "id": "3f5770a8",
   "metadata": {},
   "source": [
    "## Final report preparation"
   ]
  },
  {
   "cell_type": "code",
   "execution_count": 1,
   "id": "f75623cb",
   "metadata": {},
   "outputs": [],
   "source": [
    "# Importing libraries\n",
    "\n",
    "import pandas as pd\n",
    "import numpy as np\n",
    "import os\n",
    "import matplotlib.pyplot as plt\n",
    "import seaborn as sns\n",
    "import scipy\n",
    "\n",
    "# Changing the format of the values visualization\n",
    "\n",
    "pd.options.display.float_format = '{:.2f}'.format\n",
    "\n",
    "# Reseting the maximum number of columns to display to default (all columns)\n",
    "\n",
    "pd.set_option('display.max_columns', None)"
   ]
  },
  {
   "cell_type": "code",
   "execution_count": 2,
   "id": "a69d9b55",
   "metadata": {},
   "outputs": [],
   "source": [
    "# Defining the data access path\n",
    "\n",
    "path = r'C:\\Users\\efens\\cf_tasks\\2023-07 Instacard Basket Analysis'"
   ]
  },
  {
   "cell_type": "markdown",
   "id": "efe8ebfc",
   "metadata": {},
   "source": [
    "#### 01. Importing data"
   ]
  },
  {
   "cell_type": "code",
   "execution_count": 3,
   "id": "6efb33e6",
   "metadata": {},
   "outputs": [],
   "source": [
    "# Importing raw data\n",
    "\n",
    "orders_origin = pd.read_csv(os.path.join(path, '02 Data', '021 Original Data', 'orders.csv'))"
   ]
  },
  {
   "cell_type": "code",
   "execution_count": 4,
   "id": "6d0f4058",
   "metadata": {},
   "outputs": [],
   "source": [
    "order_products_origin = pd.read_csv(os.path.join(path, '02 Data', '021 Original Data', 'order_products__prior.csv'))"
   ]
  },
  {
   "cell_type": "code",
   "execution_count": 5,
   "id": "4de33d82",
   "metadata": {},
   "outputs": [],
   "source": [
    "prods_origin = pd.read_csv(os.path.join(path, '02 Data', '021 Original Data', 'products.csv'))"
   ]
  },
  {
   "cell_type": "code",
   "execution_count": 6,
   "id": "fd592467",
   "metadata": {},
   "outputs": [],
   "source": [
    "customers_origin = pd.read_csv(os.path.join(path, '02 Data', '021 Original Data', 'customers.csv'))"
   ]
  },
  {
   "cell_type": "code",
   "execution_count": 8,
   "id": "1236c432",
   "metadata": {},
   "outputs": [],
   "source": [
    "depart_origin = pd.read_csv(os.path.join(path, '02 Data', '021 Original Data', 'departments.csv'))"
   ]
  },
  {
   "cell_type": "code",
   "execution_count": 17,
   "id": "6e4b148b",
   "metadata": {},
   "outputs": [],
   "source": [
    "# importing updated data \n",
    "\n",
    "ords_prods_merge_agg = pd.read_pickle(os.path.join(path, '02 Data', '022 Prepared Data', 'ords_prods_merge_agg.pkl'))"
   ]
  },
  {
   "cell_type": "code",
   "execution_count": 18,
   "id": "e9fc6500",
   "metadata": {},
   "outputs": [],
   "source": [
    "profiling_data_filtered = pd.read_pickle(os.path.join(path, '02 Data', '022 Prepared Data', 'profiling_data_filtered.pkl'))"
   ]
  },
  {
   "cell_type": "markdown",
   "id": "0bb521d0",
   "metadata": {},
   "source": [
    "#### 02. Calculating population flow "
   ]
  },
  {
   "cell_type": "code",
   "execution_count": 11,
   "id": "59cb515e",
   "metadata": {},
   "outputs": [
    {
     "data": {
      "text/plain": [
       "(3421083, 7)"
      ]
     },
     "execution_count": 11,
     "metadata": {},
     "output_type": "execute_result"
    }
   ],
   "source": [
    "orders_origin.shape"
   ]
  },
  {
   "cell_type": "code",
   "execution_count": 12,
   "id": "1bec5137",
   "metadata": {},
   "outputs": [
    {
     "data": {
      "text/plain": [
       "(32434489, 4)"
      ]
     },
     "execution_count": 12,
     "metadata": {},
     "output_type": "execute_result"
    }
   ],
   "source": [
    "order_products_origin.shape"
   ]
  },
  {
   "cell_type": "code",
   "execution_count": 13,
   "id": "d3159115",
   "metadata": {},
   "outputs": [
    {
     "data": {
      "text/plain": [
       "(49693, 5)"
      ]
     },
     "execution_count": 13,
     "metadata": {},
     "output_type": "execute_result"
    }
   ],
   "source": [
    "prods_origin.shape"
   ]
  },
  {
   "cell_type": "code",
   "execution_count": 14,
   "id": "3e3490e1",
   "metadata": {},
   "outputs": [
    {
     "data": {
      "text/plain": [
       "(206209, 10)"
      ]
     },
     "execution_count": 14,
     "metadata": {},
     "output_type": "execute_result"
    }
   ],
   "source": [
    "customers_origin.shape"
   ]
  },
  {
   "cell_type": "code",
   "execution_count": 15,
   "id": "8b693d4a",
   "metadata": {},
   "outputs": [
    {
     "data": {
      "text/plain": [
       "(1, 22)"
      ]
     },
     "execution_count": 15,
     "metadata": {},
     "output_type": "execute_result"
    }
   ],
   "source": [
    "depart_origin.shape"
   ]
  },
  {
   "cell_type": "code",
   "execution_count": 16,
   "id": "843388c0",
   "metadata": {},
   "outputs": [
    {
     "data": {
      "text/plain": [
       "(32404859, 24)"
      ]
     },
     "execution_count": 16,
     "metadata": {},
     "output_type": "execute_result"
    }
   ],
   "source": [
    "ords_prods_merge_agg.shape"
   ]
  },
  {
   "cell_type": "code",
   "execution_count": 19,
   "id": "ee5da373",
   "metadata": {},
   "outputs": [
    {
     "data": {
      "text/plain": [
       "(30166708, 36)"
      ]
     },
     "execution_count": 19,
     "metadata": {},
     "output_type": "execute_result"
    }
   ],
   "source": [
    "profiling_data_filtered.shape"
   ]
  },
  {
   "cell_type": "markdown",
   "id": "8d110bf7",
   "metadata": {},
   "source": [
    "#### 03. Exploring data"
   ]
  },
  {
   "cell_type": "code",
   "execution_count": 20,
   "id": "0d076346",
   "metadata": {},
   "outputs": [
    {
     "data": {
      "text/html": [
       "<div>\n",
       "<style scoped>\n",
       "    .dataframe tbody tr th:only-of-type {\n",
       "        vertical-align: middle;\n",
       "    }\n",
       "\n",
       "    .dataframe tbody tr th {\n",
       "        vertical-align: top;\n",
       "    }\n",
       "\n",
       "    .dataframe thead th {\n",
       "        text-align: right;\n",
       "    }\n",
       "</style>\n",
       "<table border=\"1\" class=\"dataframe\">\n",
       "  <thead>\n",
       "    <tr style=\"text-align: right;\">\n",
       "      <th></th>\n",
       "      <th>order_id</th>\n",
       "      <th>user_id</th>\n",
       "      <th>order_number</th>\n",
       "      <th>orders_day_of_week</th>\n",
       "      <th>order_hour_of_day</th>\n",
       "      <th>days_since_prior_order</th>\n",
       "      <th>product_id</th>\n",
       "      <th>add_to_cart_order</th>\n",
       "      <th>reordered</th>\n",
       "      <th>product_name</th>\n",
       "      <th>aisle_id</th>\n",
       "      <th>department_id</th>\n",
       "      <th>prices</th>\n",
       "      <th>price_range_loc</th>\n",
       "      <th>busiest_day</th>\n",
       "      <th>busiest_days</th>\n",
       "      <th>busiest_period_of_day</th>\n",
       "      <th>max_order</th>\n",
       "      <th>loyalty_flag</th>\n",
       "      <th>mean_price</th>\n",
       "      <th>spenders</th>\n",
       "      <th>median_days</th>\n",
       "      <th>frequency_flag</th>\n",
       "      <th>gender</th>\n",
       "      <th>state</th>\n",
       "      <th>age</th>\n",
       "      <th>date_joined</th>\n",
       "      <th>n_dependants</th>\n",
       "      <th>fam_status</th>\n",
       "      <th>income</th>\n",
       "      <th>_merge</th>\n",
       "      <th>region</th>\n",
       "      <th>activity_flag</th>\n",
       "      <th>age_group</th>\n",
       "      <th>profile</th>\n",
       "      <th>department</th>\n",
       "    </tr>\n",
       "  </thead>\n",
       "  <tbody>\n",
       "    <tr>\n",
       "      <th>0</th>\n",
       "      <td>2539329</td>\n",
       "      <td>1</td>\n",
       "      <td>1</td>\n",
       "      <td>2</td>\n",
       "      <td>8</td>\n",
       "      <td>7.00</td>\n",
       "      <td>196</td>\n",
       "      <td>1</td>\n",
       "      <td>0</td>\n",
       "      <td>Soda</td>\n",
       "      <td>77</td>\n",
       "      <td>7</td>\n",
       "      <td>9.00</td>\n",
       "      <td>Mid-range product</td>\n",
       "      <td>Regularly busy</td>\n",
       "      <td>Regularly busy</td>\n",
       "      <td>Average orders</td>\n",
       "      <td>10</td>\n",
       "      <td>New customer</td>\n",
       "      <td>6.37</td>\n",
       "      <td>Low spender</td>\n",
       "      <td>20.00</td>\n",
       "      <td>Regular customer</td>\n",
       "      <td>Female</td>\n",
       "      <td>Alabama</td>\n",
       "      <td>31</td>\n",
       "      <td>2/17/2019</td>\n",
       "      <td>3</td>\n",
       "      <td>married</td>\n",
       "      <td>40423</td>\n",
       "      <td>both</td>\n",
       "      <td>3_South</td>\n",
       "      <td>high-activity customer</td>\n",
       "      <td>25-40</td>\n",
       "      <td>Married With Children</td>\n",
       "      <td>beverages</td>\n",
       "    </tr>\n",
       "    <tr>\n",
       "      <th>1</th>\n",
       "      <td>2398795</td>\n",
       "      <td>1</td>\n",
       "      <td>2</td>\n",
       "      <td>3</td>\n",
       "      <td>7</td>\n",
       "      <td>15.00</td>\n",
       "      <td>196</td>\n",
       "      <td>1</td>\n",
       "      <td>1</td>\n",
       "      <td>Soda</td>\n",
       "      <td>77</td>\n",
       "      <td>7</td>\n",
       "      <td>9.00</td>\n",
       "      <td>Mid-range product</td>\n",
       "      <td>Regularly busy</td>\n",
       "      <td>Least busiest days</td>\n",
       "      <td>Average orders</td>\n",
       "      <td>10</td>\n",
       "      <td>New customer</td>\n",
       "      <td>6.37</td>\n",
       "      <td>Low spender</td>\n",
       "      <td>20.00</td>\n",
       "      <td>Regular customer</td>\n",
       "      <td>Female</td>\n",
       "      <td>Alabama</td>\n",
       "      <td>31</td>\n",
       "      <td>2/17/2019</td>\n",
       "      <td>3</td>\n",
       "      <td>married</td>\n",
       "      <td>40423</td>\n",
       "      <td>both</td>\n",
       "      <td>3_South</td>\n",
       "      <td>high-activity customer</td>\n",
       "      <td>25-40</td>\n",
       "      <td>Married With Children</td>\n",
       "      <td>beverages</td>\n",
       "    </tr>\n",
       "    <tr>\n",
       "      <th>2</th>\n",
       "      <td>473747</td>\n",
       "      <td>1</td>\n",
       "      <td>3</td>\n",
       "      <td>3</td>\n",
       "      <td>12</td>\n",
       "      <td>21.00</td>\n",
       "      <td>196</td>\n",
       "      <td>1</td>\n",
       "      <td>1</td>\n",
       "      <td>Soda</td>\n",
       "      <td>77</td>\n",
       "      <td>7</td>\n",
       "      <td>9.00</td>\n",
       "      <td>Mid-range product</td>\n",
       "      <td>Regularly busy</td>\n",
       "      <td>Least busiest days</td>\n",
       "      <td>Average orders</td>\n",
       "      <td>10</td>\n",
       "      <td>New customer</td>\n",
       "      <td>6.37</td>\n",
       "      <td>Low spender</td>\n",
       "      <td>20.00</td>\n",
       "      <td>Regular customer</td>\n",
       "      <td>Female</td>\n",
       "      <td>Alabama</td>\n",
       "      <td>31</td>\n",
       "      <td>2/17/2019</td>\n",
       "      <td>3</td>\n",
       "      <td>married</td>\n",
       "      <td>40423</td>\n",
       "      <td>both</td>\n",
       "      <td>3_South</td>\n",
       "      <td>high-activity customer</td>\n",
       "      <td>25-40</td>\n",
       "      <td>Married With Children</td>\n",
       "      <td>beverages</td>\n",
       "    </tr>\n",
       "    <tr>\n",
       "      <th>3</th>\n",
       "      <td>2254736</td>\n",
       "      <td>1</td>\n",
       "      <td>4</td>\n",
       "      <td>4</td>\n",
       "      <td>7</td>\n",
       "      <td>29.00</td>\n",
       "      <td>196</td>\n",
       "      <td>1</td>\n",
       "      <td>1</td>\n",
       "      <td>Soda</td>\n",
       "      <td>77</td>\n",
       "      <td>7</td>\n",
       "      <td>9.00</td>\n",
       "      <td>Mid-range product</td>\n",
       "      <td>Least busy</td>\n",
       "      <td>Least busiest days</td>\n",
       "      <td>Average orders</td>\n",
       "      <td>10</td>\n",
       "      <td>New customer</td>\n",
       "      <td>6.37</td>\n",
       "      <td>Low spender</td>\n",
       "      <td>20.00</td>\n",
       "      <td>Regular customer</td>\n",
       "      <td>Female</td>\n",
       "      <td>Alabama</td>\n",
       "      <td>31</td>\n",
       "      <td>2/17/2019</td>\n",
       "      <td>3</td>\n",
       "      <td>married</td>\n",
       "      <td>40423</td>\n",
       "      <td>both</td>\n",
       "      <td>3_South</td>\n",
       "      <td>high-activity customer</td>\n",
       "      <td>25-40</td>\n",
       "      <td>Married With Children</td>\n",
       "      <td>beverages</td>\n",
       "    </tr>\n",
       "    <tr>\n",
       "      <th>4</th>\n",
       "      <td>431534</td>\n",
       "      <td>1</td>\n",
       "      <td>5</td>\n",
       "      <td>4</td>\n",
       "      <td>15</td>\n",
       "      <td>28.00</td>\n",
       "      <td>196</td>\n",
       "      <td>1</td>\n",
       "      <td>1</td>\n",
       "      <td>Soda</td>\n",
       "      <td>77</td>\n",
       "      <td>7</td>\n",
       "      <td>9.00</td>\n",
       "      <td>Mid-range product</td>\n",
       "      <td>Least busy</td>\n",
       "      <td>Least busiest days</td>\n",
       "      <td>Most orders</td>\n",
       "      <td>10</td>\n",
       "      <td>New customer</td>\n",
       "      <td>6.37</td>\n",
       "      <td>Low spender</td>\n",
       "      <td>20.00</td>\n",
       "      <td>Regular customer</td>\n",
       "      <td>Female</td>\n",
       "      <td>Alabama</td>\n",
       "      <td>31</td>\n",
       "      <td>2/17/2019</td>\n",
       "      <td>3</td>\n",
       "      <td>married</td>\n",
       "      <td>40423</td>\n",
       "      <td>both</td>\n",
       "      <td>3_South</td>\n",
       "      <td>high-activity customer</td>\n",
       "      <td>25-40</td>\n",
       "      <td>Married With Children</td>\n",
       "      <td>beverages</td>\n",
       "    </tr>\n",
       "  </tbody>\n",
       "</table>\n",
       "</div>"
      ],
      "text/plain": [
       "   order_id  user_id  order_number  orders_day_of_week  order_hour_of_day  \\\n",
       "0   2539329        1             1                   2                  8   \n",
       "1   2398795        1             2                   3                  7   \n",
       "2    473747        1             3                   3                 12   \n",
       "3   2254736        1             4                   4                  7   \n",
       "4    431534        1             5                   4                 15   \n",
       "\n",
       "   days_since_prior_order  product_id  add_to_cart_order  reordered  \\\n",
       "0                    7.00         196                  1          0   \n",
       "1                   15.00         196                  1          1   \n",
       "2                   21.00         196                  1          1   \n",
       "3                   29.00         196                  1          1   \n",
       "4                   28.00         196                  1          1   \n",
       "\n",
       "  product_name  aisle_id  department_id  prices    price_range_loc  \\\n",
       "0         Soda        77              7    9.00  Mid-range product   \n",
       "1         Soda        77              7    9.00  Mid-range product   \n",
       "2         Soda        77              7    9.00  Mid-range product   \n",
       "3         Soda        77              7    9.00  Mid-range product   \n",
       "4         Soda        77              7    9.00  Mid-range product   \n",
       "\n",
       "      busiest_day        busiest_days busiest_period_of_day  max_order  \\\n",
       "0  Regularly busy      Regularly busy        Average orders         10   \n",
       "1  Regularly busy  Least busiest days        Average orders         10   \n",
       "2  Regularly busy  Least busiest days        Average orders         10   \n",
       "3      Least busy  Least busiest days        Average orders         10   \n",
       "4      Least busy  Least busiest days           Most orders         10   \n",
       "\n",
       "   loyalty_flag  mean_price     spenders  median_days    frequency_flag  \\\n",
       "0  New customer        6.37  Low spender        20.00  Regular customer   \n",
       "1  New customer        6.37  Low spender        20.00  Regular customer   \n",
       "2  New customer        6.37  Low spender        20.00  Regular customer   \n",
       "3  New customer        6.37  Low spender        20.00  Regular customer   \n",
       "4  New customer        6.37  Low spender        20.00  Regular customer   \n",
       "\n",
       "   gender    state  age date_joined  n_dependants fam_status  income _merge  \\\n",
       "0  Female  Alabama   31   2/17/2019             3    married   40423   both   \n",
       "1  Female  Alabama   31   2/17/2019             3    married   40423   both   \n",
       "2  Female  Alabama   31   2/17/2019             3    married   40423   both   \n",
       "3  Female  Alabama   31   2/17/2019             3    married   40423   both   \n",
       "4  Female  Alabama   31   2/17/2019             3    married   40423   both   \n",
       "\n",
       "    region           activity_flag age_group                profile department  \n",
       "0  3_South  high-activity customer     25-40  Married With Children  beverages  \n",
       "1  3_South  high-activity customer     25-40  Married With Children  beverages  \n",
       "2  3_South  high-activity customer     25-40  Married With Children  beverages  \n",
       "3  3_South  high-activity customer     25-40  Married With Children  beverages  \n",
       "4  3_South  high-activity customer     25-40  Married With Children  beverages  "
      ]
     },
     "execution_count": 20,
     "metadata": {},
     "output_type": "execute_result"
    }
   ],
   "source": [
    "profiling_data_filtered.head()"
   ]
  }
 ],
 "metadata": {
  "kernelspec": {
   "display_name": "Python 3 (ipykernel)",
   "language": "python",
   "name": "python3"
  },
  "language_info": {
   "codemirror_mode": {
    "name": "ipython",
    "version": 3
   },
   "file_extension": ".py",
   "mimetype": "text/x-python",
   "name": "python",
   "nbconvert_exporter": "python",
   "pygments_lexer": "ipython3",
   "version": "3.11.3"
  }
 },
 "nbformat": 4,
 "nbformat_minor": 5
}
