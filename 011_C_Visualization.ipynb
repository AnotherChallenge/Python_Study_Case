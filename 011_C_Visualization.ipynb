{
 "cells": [
  {
   "cell_type": "markdown",
   "id": "c1fbdad2",
   "metadata": {},
   "source": [
    "## Data Visualization (C)"
   ]
  },
  {
   "cell_type": "code",
   "execution_count": 1,
   "id": "5f46982f",
   "metadata": {},
   "outputs": [],
   "source": [
    "# Importing libraries\n",
    "\n",
    "import pandas as pd\n",
    "import numpy as np\n",
    "import os\n",
    "import matplotlib.pyplot as plt\n",
    "import seaborn as sns\n",
    "import scipy"
   ]
  },
  {
   "cell_type": "code",
   "execution_count": 2,
   "id": "cb3aaaff",
   "metadata": {},
   "outputs": [],
   "source": [
    "# Changing the format of the values visualization\n",
    "\n",
    "pd.options.display.float_format = '{:.2f}'.format"
   ]
  },
  {
   "cell_type": "code",
   "execution_count": 3,
   "id": "e8be50ed",
   "metadata": {},
   "outputs": [],
   "source": [
    "# Reseting the maximum number of columns to display to default (all columns)\n",
    "\n",
    "pd.set_option('display.max_columns', None)"
   ]
  },
  {
   "cell_type": "code",
   "execution_count": 4,
   "id": "e1801c08",
   "metadata": {},
   "outputs": [],
   "source": [
    "# Importing project data\n",
    "\n",
    "path = r'C:\\Users\\efens\\cf_tasks\\2023-07 Instacard Basket Analysis'\n",
    "merged_all = pd.read_pickle(os.path.join(path, '02 Data', '022 Prepared Data', 'merged_all.pkl'))"
   ]
  },
  {
   "cell_type": "code",
   "execution_count": 5,
   "id": "d85d86ca",
   "metadata": {},
   "outputs": [
    {
     "data": {
      "text/html": [
       "<div>\n",
       "<style scoped>\n",
       "    .dataframe tbody tr th:only-of-type {\n",
       "        vertical-align: middle;\n",
       "    }\n",
       "\n",
       "    .dataframe tbody tr th {\n",
       "        vertical-align: top;\n",
       "    }\n",
       "\n",
       "    .dataframe thead th {\n",
       "        text-align: right;\n",
       "    }\n",
       "</style>\n",
       "<table border=\"1\" class=\"dataframe\">\n",
       "  <thead>\n",
       "    <tr style=\"text-align: right;\">\n",
       "      <th></th>\n",
       "      <th>order_id</th>\n",
       "      <th>user_id</th>\n",
       "      <th>order_number</th>\n",
       "      <th>orders_day_of_week</th>\n",
       "      <th>order_hour_of_day</th>\n",
       "      <th>days_since_prior_order</th>\n",
       "      <th>product_id</th>\n",
       "      <th>add_to_cart_order</th>\n",
       "      <th>reordered</th>\n",
       "      <th>product_name</th>\n",
       "      <th>aisle_id</th>\n",
       "      <th>department_id</th>\n",
       "      <th>prices</th>\n",
       "      <th>price_range_loc</th>\n",
       "      <th>busiest_day</th>\n",
       "      <th>busiest_days</th>\n",
       "      <th>busiest_period_of_day</th>\n",
       "      <th>max_order</th>\n",
       "      <th>loyalty_flag</th>\n",
       "      <th>mean_price</th>\n",
       "      <th>spenders</th>\n",
       "      <th>median_days</th>\n",
       "      <th>frequency_flag</th>\n",
       "      <th>last_name</th>\n",
       "      <th>gender</th>\n",
       "      <th>state</th>\n",
       "      <th>age</th>\n",
       "      <th>date_joined</th>\n",
       "      <th>n_dependants</th>\n",
       "      <th>fam_status</th>\n",
       "      <th>income</th>\n",
       "      <th>_merge</th>\n",
       "    </tr>\n",
       "  </thead>\n",
       "  <tbody>\n",
       "    <tr>\n",
       "      <th>0</th>\n",
       "      <td>2539329</td>\n",
       "      <td>1</td>\n",
       "      <td>1</td>\n",
       "      <td>2</td>\n",
       "      <td>8</td>\n",
       "      <td>7.00</td>\n",
       "      <td>196</td>\n",
       "      <td>1</td>\n",
       "      <td>0</td>\n",
       "      <td>Soda</td>\n",
       "      <td>77</td>\n",
       "      <td>7</td>\n",
       "      <td>9.00</td>\n",
       "      <td>Mid-range product</td>\n",
       "      <td>Regularly busy</td>\n",
       "      <td>Regularly busy</td>\n",
       "      <td>Average orders</td>\n",
       "      <td>10</td>\n",
       "      <td>New customer</td>\n",
       "      <td>6.37</td>\n",
       "      <td>Low spender</td>\n",
       "      <td>20.00</td>\n",
       "      <td>Regular customer</td>\n",
       "      <td>Nguyen</td>\n",
       "      <td>Female</td>\n",
       "      <td>Alabama</td>\n",
       "      <td>31</td>\n",
       "      <td>2/17/2019</td>\n",
       "      <td>3</td>\n",
       "      <td>married</td>\n",
       "      <td>40423</td>\n",
       "      <td>both</td>\n",
       "    </tr>\n",
       "    <tr>\n",
       "      <th>1</th>\n",
       "      <td>2398795</td>\n",
       "      <td>1</td>\n",
       "      <td>2</td>\n",
       "      <td>3</td>\n",
       "      <td>7</td>\n",
       "      <td>15.00</td>\n",
       "      <td>196</td>\n",
       "      <td>1</td>\n",
       "      <td>1</td>\n",
       "      <td>Soda</td>\n",
       "      <td>77</td>\n",
       "      <td>7</td>\n",
       "      <td>9.00</td>\n",
       "      <td>Mid-range product</td>\n",
       "      <td>Regularly busy</td>\n",
       "      <td>Least busiest days</td>\n",
       "      <td>Average orders</td>\n",
       "      <td>10</td>\n",
       "      <td>New customer</td>\n",
       "      <td>6.37</td>\n",
       "      <td>Low spender</td>\n",
       "      <td>20.00</td>\n",
       "      <td>Regular customer</td>\n",
       "      <td>Nguyen</td>\n",
       "      <td>Female</td>\n",
       "      <td>Alabama</td>\n",
       "      <td>31</td>\n",
       "      <td>2/17/2019</td>\n",
       "      <td>3</td>\n",
       "      <td>married</td>\n",
       "      <td>40423</td>\n",
       "      <td>both</td>\n",
       "    </tr>\n",
       "    <tr>\n",
       "      <th>2</th>\n",
       "      <td>473747</td>\n",
       "      <td>1</td>\n",
       "      <td>3</td>\n",
       "      <td>3</td>\n",
       "      <td>12</td>\n",
       "      <td>21.00</td>\n",
       "      <td>196</td>\n",
       "      <td>1</td>\n",
       "      <td>1</td>\n",
       "      <td>Soda</td>\n",
       "      <td>77</td>\n",
       "      <td>7</td>\n",
       "      <td>9.00</td>\n",
       "      <td>Mid-range product</td>\n",
       "      <td>Regularly busy</td>\n",
       "      <td>Least busiest days</td>\n",
       "      <td>Average orders</td>\n",
       "      <td>10</td>\n",
       "      <td>New customer</td>\n",
       "      <td>6.37</td>\n",
       "      <td>Low spender</td>\n",
       "      <td>20.00</td>\n",
       "      <td>Regular customer</td>\n",
       "      <td>Nguyen</td>\n",
       "      <td>Female</td>\n",
       "      <td>Alabama</td>\n",
       "      <td>31</td>\n",
       "      <td>2/17/2019</td>\n",
       "      <td>3</td>\n",
       "      <td>married</td>\n",
       "      <td>40423</td>\n",
       "      <td>both</td>\n",
       "    </tr>\n",
       "    <tr>\n",
       "      <th>3</th>\n",
       "      <td>2254736</td>\n",
       "      <td>1</td>\n",
       "      <td>4</td>\n",
       "      <td>4</td>\n",
       "      <td>7</td>\n",
       "      <td>29.00</td>\n",
       "      <td>196</td>\n",
       "      <td>1</td>\n",
       "      <td>1</td>\n",
       "      <td>Soda</td>\n",
       "      <td>77</td>\n",
       "      <td>7</td>\n",
       "      <td>9.00</td>\n",
       "      <td>Mid-range product</td>\n",
       "      <td>Least busy</td>\n",
       "      <td>Least busiest days</td>\n",
       "      <td>Average orders</td>\n",
       "      <td>10</td>\n",
       "      <td>New customer</td>\n",
       "      <td>6.37</td>\n",
       "      <td>Low spender</td>\n",
       "      <td>20.00</td>\n",
       "      <td>Regular customer</td>\n",
       "      <td>Nguyen</td>\n",
       "      <td>Female</td>\n",
       "      <td>Alabama</td>\n",
       "      <td>31</td>\n",
       "      <td>2/17/2019</td>\n",
       "      <td>3</td>\n",
       "      <td>married</td>\n",
       "      <td>40423</td>\n",
       "      <td>both</td>\n",
       "    </tr>\n",
       "    <tr>\n",
       "      <th>4</th>\n",
       "      <td>431534</td>\n",
       "      <td>1</td>\n",
       "      <td>5</td>\n",
       "      <td>4</td>\n",
       "      <td>15</td>\n",
       "      <td>28.00</td>\n",
       "      <td>196</td>\n",
       "      <td>1</td>\n",
       "      <td>1</td>\n",
       "      <td>Soda</td>\n",
       "      <td>77</td>\n",
       "      <td>7</td>\n",
       "      <td>9.00</td>\n",
       "      <td>Mid-range product</td>\n",
       "      <td>Least busy</td>\n",
       "      <td>Least busiest days</td>\n",
       "      <td>Most orders</td>\n",
       "      <td>10</td>\n",
       "      <td>New customer</td>\n",
       "      <td>6.37</td>\n",
       "      <td>Low spender</td>\n",
       "      <td>20.00</td>\n",
       "      <td>Regular customer</td>\n",
       "      <td>Nguyen</td>\n",
       "      <td>Female</td>\n",
       "      <td>Alabama</td>\n",
       "      <td>31</td>\n",
       "      <td>2/17/2019</td>\n",
       "      <td>3</td>\n",
       "      <td>married</td>\n",
       "      <td>40423</td>\n",
       "      <td>both</td>\n",
       "    </tr>\n",
       "  </tbody>\n",
       "</table>\n",
       "</div>"
      ],
      "text/plain": [
       "   order_id  user_id  order_number  orders_day_of_week  order_hour_of_day  \\\n",
       "0   2539329        1             1                   2                  8   \n",
       "1   2398795        1             2                   3                  7   \n",
       "2    473747        1             3                   3                 12   \n",
       "3   2254736        1             4                   4                  7   \n",
       "4    431534        1             5                   4                 15   \n",
       "\n",
       "   days_since_prior_order  product_id  add_to_cart_order  reordered  \\\n",
       "0                    7.00         196                  1          0   \n",
       "1                   15.00         196                  1          1   \n",
       "2                   21.00         196                  1          1   \n",
       "3                   29.00         196                  1          1   \n",
       "4                   28.00         196                  1          1   \n",
       "\n",
       "  product_name  aisle_id  department_id  prices    price_range_loc  \\\n",
       "0         Soda        77              7    9.00  Mid-range product   \n",
       "1         Soda        77              7    9.00  Mid-range product   \n",
       "2         Soda        77              7    9.00  Mid-range product   \n",
       "3         Soda        77              7    9.00  Mid-range product   \n",
       "4         Soda        77              7    9.00  Mid-range product   \n",
       "\n",
       "      busiest_day        busiest_days busiest_period_of_day  max_order  \\\n",
       "0  Regularly busy      Regularly busy        Average orders         10   \n",
       "1  Regularly busy  Least busiest days        Average orders         10   \n",
       "2  Regularly busy  Least busiest days        Average orders         10   \n",
       "3      Least busy  Least busiest days        Average orders         10   \n",
       "4      Least busy  Least busiest days           Most orders         10   \n",
       "\n",
       "   loyalty_flag  mean_price     spenders  median_days    frequency_flag  \\\n",
       "0  New customer        6.37  Low spender        20.00  Regular customer   \n",
       "1  New customer        6.37  Low spender        20.00  Regular customer   \n",
       "2  New customer        6.37  Low spender        20.00  Regular customer   \n",
       "3  New customer        6.37  Low spender        20.00  Regular customer   \n",
       "4  New customer        6.37  Low spender        20.00  Regular customer   \n",
       "\n",
       "  last_name  gender    state  age date_joined  n_dependants fam_status  \\\n",
       "0    Nguyen  Female  Alabama   31   2/17/2019             3    married   \n",
       "1    Nguyen  Female  Alabama   31   2/17/2019             3    married   \n",
       "2    Nguyen  Female  Alabama   31   2/17/2019             3    married   \n",
       "3    Nguyen  Female  Alabama   31   2/17/2019             3    married   \n",
       "4    Nguyen  Female  Alabama   31   2/17/2019             3    married   \n",
       "\n",
       "   income _merge  \n",
       "0   40423   both  \n",
       "1   40423   both  \n",
       "2   40423   both  \n",
       "3   40423   both  \n",
       "4   40423   both  "
      ]
     },
     "execution_count": 5,
     "metadata": {},
     "output_type": "execute_result"
    }
   ],
   "source": [
    "# Checking dataset after import\n",
    "\n",
    "merged_all.head()"
   ]
  },
  {
   "cell_type": "markdown",
   "id": "faef4075",
   "metadata": {},
   "source": [
    "## 01. Creating a histogram of the “order_hour_of_day” column."
   ]
  },
  {
   "cell_type": "code",
   "execution_count": 6,
   "id": "2985d005",
   "metadata": {},
   "outputs": [
    {
     "data": {
      "text/plain": [
       "count   32404859.00\n",
       "mean          13.43\n",
       "std            4.25\n",
       "min            0.00\n",
       "25%           10.00\n",
       "50%           13.00\n",
       "75%           16.00\n",
       "max           23.00\n",
       "Name: order_hour_of_day, dtype: float64"
      ]
     },
     "execution_count": 6,
     "metadata": {},
     "output_type": "execute_result"
    }
   ],
   "source": [
    "# Exploring the variable order_hour_of_day\n",
    "\n",
    "merged_all['order_hour_of_day'].describe()"
   ]
  },
  {
   "cell_type": "markdown",
   "id": "829194b8",
   "metadata": {},
   "source": [
    "- Unexpected values not found"
   ]
  },
  {
   "cell_type": "code",
   "execution_count": 7,
   "id": "16f6faa2",
   "metadata": {},
   "outputs": [
    {
     "data": {
      "text/plain": [
       "10    2761760\n",
       "11    2736140\n",
       "14    2689136\n",
       "15    2662144\n",
       "13    2660954\n",
       "12    2618532\n",
       "16    2535202\n",
       "9     2454203\n",
       "17    2087654\n",
       "8     1718118\n",
       "18    1636502\n",
       "19    1258305\n",
       "20     976156\n",
       "7      891054\n",
       "21     795637\n",
       "22     634225\n",
       "23     402316\n",
       "6      290493\n",
       "0      218769\n",
       "1      115700\n",
       "5       87961\n",
       "2       69375\n",
       "4       53242\n",
       "3       51281\n",
       "Name: order_hour_of_day, dtype: int64"
      ]
     },
     "execution_count": 7,
     "metadata": {},
     "output_type": "execute_result"
    }
   ],
   "source": [
    "# Exploring values\n",
    "\n",
    "merged_all['order_hour_of_day'].value_counts()"
   ]
  },
  {
   "cell_type": "code",
   "execution_count": 8,
   "id": "01369ad5",
   "metadata": {},
   "outputs": [
    {
     "data": {
      "image/png": "[encoded data removed]",
      "text/plain": [
       "<Figure size 640x480 with 1 Axes>"
      ]
     },
     "metadata": {},
     "output_type": "display_data"
    }
   ],
   "source": [
    "## Creating a detailled histogram\n",
    "\n",
    "# Data for histogram\n",
    "data_1 = merged_all['order_hour_of_day']\n",
    "\n",
    "# Creating a histogram\n",
    "hist_1 = data_1.plot.hist(bins = 24, color='steelblue', edgecolor='black')\n",
    "\n",
    "# Adding title and labels to the histogramm\n",
    "\n",
    "plt.title(\"Order Trends by Hour of a Day\")\n",
    "plt.xlabel(\"Hours of Day\")\n",
    "plt.ylabel(\"Frequency\")\n",
    "                        \n",
    "# Show the histogram\n",
    "plt.show()"
   ]
  },
  {
   "cell_type": "code",
   "execution_count": 9,
   "id": "6981a8a7",
   "metadata": {},
   "outputs": [
    {
     "name": "stdout",
     "output_type": "stream",
     "text": [
      "21118071\n"
     ]
    }
   ],
   "source": [
    "## Additional calculations\n",
    "\n",
    "#  Calculating counts for each hour\n",
    "hour_counts = merged_all['order_hour_of_day'].value_counts()\n",
    "\n",
    "# Calculate the amount counts for top hours 9-16\n",
    "sum_counts_top = hour_counts.loc[[9, 10, 11, 12, 13, 14, 15, 16]].sum()\n",
    "\n",
    "# Print the result\n",
    "\n",
    "print(sum_counts_top)"
   ]
  },
  {
   "cell_type": "code",
   "execution_count": 10,
   "id": "d2cdd54c",
   "metadata": {},
   "outputs": [
    {
     "data": {
      "text/plain": [
       "32404859"
      ]
     },
     "execution_count": 10,
     "metadata": {},
     "output_type": "execute_result"
    }
   ],
   "source": [
    "# calculating counts for all orders\n",
    "\n",
    "total_count = hour_counts.sum()\n",
    "total_count"
   ]
  },
  {
   "cell_type": "code",
   "execution_count": 11,
   "id": "2bb7dfee",
   "metadata": {},
   "outputs": [
    {
     "data": {
      "text/plain": [
       "65.16945807417338"
      ]
     },
     "execution_count": 11,
     "metadata": {},
     "output_type": "execute_result"
    }
   ],
   "source": [
    "# calculating the percentage\n",
    "\n",
    "top_counts = ((sum_counts_top)/(hour_counts.sum()))*100\n",
    "top_counts"
   ]
  },
  {
   "cell_type": "markdown",
   "id": "288ed4e6",
   "metadata": {},
   "source": [
    "#### Description \n",
    "- The largest number of orders is made during working hours, between 9 a.m. and 4 p.m., and accounts for about 65% of the total number of orders.\n",
    "- After 18 hours there is a smooth decline.\n",
    "- At night, from 0 to 5 a.m., the number of orders is minimal."
   ]
  },
  {
   "cell_type": "markdown",
   "id": "ea1b5a4a",
   "metadata": {},
   "source": [
    "#### Exporting the histogramm"
   ]
  },
  {
   "cell_type": "code",
   "execution_count": 12,
   "id": "7d1bc688",
   "metadata": {},
   "outputs": [],
   "source": [
    "hist_1.figure.savefig(os.path.join(path, '04 Analysis','041 Visualizations', 'hist_hours.png'))"
   ]
  },
  {
   "cell_type": "markdown",
   "id": "2f838de4",
   "metadata": {},
   "source": [
    "## 02. Creating a bar chart from the “loyalty_flag” column."
   ]
  },
  {
   "cell_type": "code",
   "execution_count": 13,
   "id": "f8b79a64",
   "metadata": {},
   "outputs": [
    {
     "data": {
      "text/plain": [
       "count             32404859\n",
       "unique                   3\n",
       "top       Regular customer\n",
       "freq              15876776\n",
       "Name: loyalty_flag, dtype: object"
      ]
     },
     "execution_count": 13,
     "metadata": {},
     "output_type": "execute_result"
    }
   ],
   "source": [
    "# Exploring the variable order_hour_of_day\n",
    "\n",
    "merged_all['loyalty_flag'].describe()"
   ]
  },
  {
   "cell_type": "code",
   "execution_count": 14,
   "id": "d54d8742",
   "metadata": {},
   "outputs": [
    {
     "data": {
      "text/plain": [
       "Regular customer    15876776\n",
       "Loyal customer      10284093\n",
       "New customer         6243990\n",
       "Name: loyalty_flag, dtype: int64"
      ]
     },
     "execution_count": 14,
     "metadata": {},
     "output_type": "execute_result"
    }
   ],
   "source": [
    "# Exploring counts\n",
    "\n",
    "merged_all['loyalty_flag'].value_counts()"
   ]
  },
  {
   "cell_type": "code",
   "execution_count": 15,
   "id": "0e8f361d",
   "metadata": {},
   "outputs": [
    {
     "data": {
      "image/png": "[encoded data removed]",
      "text/plain": [
       "<Figure size 640x480 with 1 Axes>"
      ]
     },
     "metadata": {},
     "output_type": "display_data"
    }
   ],
   "source": [
    "# Creating a bar chart\n",
    "\n",
    "bar = merged_all['loyalty_flag'].value_counts().plot.bar()\n",
    "\n",
    "# Adding title and labels to the plot\n",
    "bar.set_title(\"Distribution of orders among customers in terms of loyalty\")\n",
    "bar.set_xlabel(\"Loyalty\")\n",
    "bar.set_ylabel(\"Counts\")\n",
    "\n",
    "# Change the roration on x-axes\n",
    "plt.xticks(rotation=0)\n",
    "\n",
    "# Showing the plot\n",
    "plt.show()"
   ]
  },
  {
   "cell_type": "markdown",
   "id": "61be0c27",
   "metadata": {},
   "source": [
    "#### Description\n",
    "\n",
    "- Regular customers make up the largest proportion of all customers "
   ]
  },
  {
   "cell_type": "markdown",
   "id": "37025106",
   "metadata": {},
   "source": [
    "#### Exporting the chart"
   ]
  },
  {
   "cell_type": "code",
   "execution_count": 16,
   "id": "20c7c9f8",
   "metadata": {},
   "outputs": [],
   "source": [
    "bar.figure.savefig(os.path.join(path, '04 Analysis','041 Visualizations', 'bar_loyalty.png'))"
   ]
  },
  {
   "cell_type": "markdown",
   "id": "c056d2a2",
   "metadata": {},
   "source": [
    "## 03. Checking whether there’s a difference in expenditure (the “prices” column) depending on the hour of the day."
   ]
  },
  {
   "cell_type": "code",
   "execution_count": 17,
   "id": "27592a1d",
   "metadata": {},
   "outputs": [
    {
     "data": {
      "text/plain": [
       "count   32404859.00\n",
       "mean          11.98\n",
       "std          495.66\n",
       "min            1.00\n",
       "25%            4.20\n",
       "50%            7.40\n",
       "75%           11.30\n",
       "max        99999.00\n",
       "Name: prices, dtype: float64"
      ]
     },
     "execution_count": 17,
     "metadata": {},
     "output_type": "execute_result"
    }
   ],
   "source": [
    "# Exploring the varibale 'prices'\n",
    "\n",
    "merged_all['prices'].describe()"
   ]
  },
  {
   "cell_type": "code",
   "execution_count": 18,
   "id": "1bc7b49e",
   "metadata": {},
   "outputs": [],
   "source": [
    "# Turning the unexpected price values to NaN\n",
    "\n",
    "merged_all.loc[merged_all['prices'] >100, 'prices'] = np.nan"
   ]
  },
  {
   "cell_type": "code",
   "execution_count": 19,
   "id": "1a446b60",
   "metadata": {},
   "outputs": [],
   "source": [
    "# Creating a random seeed\n",
    "\n",
    "np.random.seed(4)\n",
    "\n",
    "# Creating a list holding True/False values to the test np.random.rant() <= 0.7\n",
    "dev = np.random.rand(len(merged_all)) <= 0.7"
   ]
  },
  {
   "cell_type": "code",
   "execution_count": 20,
   "id": "139aa4e9",
   "metadata": {},
   "outputs": [
    {
     "data": {
      "text/plain": [
       "array([False,  True, False, ...,  True,  True,  True])"
      ]
     },
     "execution_count": 20,
     "metadata": {},
     "output_type": "execute_result"
    }
   ],
   "source": [
    "# Checking the boolean values\n",
    "\n",
    "dev"
   ]
  },
  {
   "cell_type": "code",
   "execution_count": 21,
   "id": "49bc9370",
   "metadata": {},
   "outputs": [],
   "source": [
    "# Split the dataframe into two samples\n",
    "\n",
    "big = merged_all[dev] # store 70% of the sample in the df big\n",
    "small = merged_all[~dev] # store 30% of the sample in the df small"
   ]
  },
  {
   "cell_type": "code",
   "execution_count": 22,
   "id": "c32ad35c",
   "metadata": {},
   "outputs": [
    {
     "data": {
      "text/plain": [
       "32404859"
      ]
     },
     "execution_count": 22,
     "metadata": {},
     "output_type": "execute_result"
    }
   ],
   "source": [
    "# Calculating the lenght of the whole df\n",
    "\n",
    "len(merged_all)"
   ]
  },
  {
   "cell_type": "code",
   "execution_count": 23,
   "id": "5e34947a",
   "metadata": {},
   "outputs": [],
   "source": [
    "# Reducing the number of columns to the number that is necessary\n",
    "\n",
    "df_2 = small[['order_hour_of_day','prices']]"
   ]
  },
  {
   "cell_type": "code",
   "execution_count": 24,
   "id": "88bf0a29",
   "metadata": {},
   "outputs": [
    {
     "data": {
      "text/plain": [
       "25.0"
      ]
     },
     "execution_count": 24,
     "metadata": {},
     "output_type": "execute_result"
    }
   ],
   "source": [
    "merged_all['prices'].max()"
   ]
  },
  {
   "cell_type": "code",
   "execution_count": 25,
   "id": "53fc3947",
   "metadata": {},
   "outputs": [
    {
     "data": {
      "image/png": "[encoded data removed]",
      "text/plain": [
       "<Figure size 640x480 with 1 Axes>"
      ]
     },
     "metadata": {},
     "output_type": "display_data"
    }
   ],
   "source": [
    "# Creating a line chart \n",
    "\n",
    "line_hour_price = sns.lineplot(data = df_2, x = 'order_hour_of_day',y = 'prices')\n",
    "\n",
    "# Adding title and labels to the line chart\n",
    "\n",
    "plt.title(\"Price Trends by Hours\")\n",
    "plt.xlabel(\"Hour of a Day\")\n",
    "plt.ylabel(\"Prices\")\n",
    "\n",
    "# Setting the y-axis limits to 0-8\n",
    "plt.ylim(0, 8)\n",
    "\n",
    "# Show the histogram\n",
    "plt.show()"
   ]
  },
  {
   "cell_type": "code",
   "execution_count": 26,
   "id": "1dd0b02a",
   "metadata": {},
   "outputs": [
    {
     "data": {
      "image/png": "[encoded data removed]",
      "text/plain": [
       "<Figure size 640x480 with 1 Axes>"
      ]
     },
     "metadata": {},
     "output_type": "display_data"
    }
   ],
   "source": [
    "# Creating a detailled line chart \n",
    "\n",
    "line_hour_price_1 = sns.lineplot(data = df_2, x = 'order_hour_of_day',y = 'prices')\n",
    "\n",
    "# Adding title and labels to the line chart\n",
    "\n",
    "plt.title(\"Price Trends by Hours\")\n",
    "plt.xlabel(\"Hour of a Day\")\n",
    "plt.ylabel(\"Prices\")\n",
    "\n",
    "# Show the histogram\n",
    "plt.show()"
   ]
  },
  {
   "cell_type": "markdown",
   "id": "f13888f0",
   "metadata": {},
   "source": [
    "#### Description\n",
    "\n",
    "- Price volume distributions appear to be stable and do not change much during the day and fluctuate between 7.750 and 7.850."
   ]
  },
  {
   "cell_type": "markdown",
   "id": "dfadaaee",
   "metadata": {},
   "source": [
    "#### Exporing charts"
   ]
  },
  {
   "cell_type": "code",
   "execution_count": 27,
   "id": "e52107bf",
   "metadata": {},
   "outputs": [],
   "source": [
    "line_hour_price.figure.savefig(os.path.join(path, '04 Analysis','041 Visualizations', 'line_hour_price.png'))"
   ]
  },
  {
   "cell_type": "code",
   "execution_count": 28,
   "id": "35251b67",
   "metadata": {},
   "outputs": [],
   "source": [
    "line_hour_price_1.figure.savefig(os.path.join(path, '04 Analysis','041 Visualizations', 'line_hour_price_1.png'))"
   ]
  },
  {
   "cell_type": "markdown",
   "id": "b312e2cf",
   "metadata": {},
   "source": [
    "## 04. Exploratory analysis of customer demographics"
   ]
  },
  {
   "cell_type": "code",
   "execution_count": 29,
   "id": "b0a51b4b",
   "metadata": {},
   "outputs": [
    {
     "data": {
      "text/html": [
       "<div>\n",
       "<style scoped>\n",
       "    .dataframe tbody tr th:only-of-type {\n",
       "        vertical-align: middle;\n",
       "    }\n",
       "\n",
       "    .dataframe tbody tr th {\n",
       "        vertical-align: top;\n",
       "    }\n",
       "\n",
       "    .dataframe thead th {\n",
       "        text-align: right;\n",
       "    }\n",
       "</style>\n",
       "<table border=\"1\" class=\"dataframe\">\n",
       "  <thead>\n",
       "    <tr style=\"text-align: right;\">\n",
       "      <th></th>\n",
       "      <th>order_id</th>\n",
       "      <th>user_id</th>\n",
       "      <th>order_number</th>\n",
       "      <th>orders_day_of_week</th>\n",
       "      <th>order_hour_of_day</th>\n",
       "      <th>days_since_prior_order</th>\n",
       "      <th>product_id</th>\n",
       "      <th>add_to_cart_order</th>\n",
       "      <th>reordered</th>\n",
       "      <th>product_name</th>\n",
       "      <th>aisle_id</th>\n",
       "      <th>department_id</th>\n",
       "      <th>prices</th>\n",
       "      <th>price_range_loc</th>\n",
       "      <th>busiest_day</th>\n",
       "      <th>busiest_days</th>\n",
       "      <th>busiest_period_of_day</th>\n",
       "      <th>max_order</th>\n",
       "      <th>loyalty_flag</th>\n",
       "      <th>mean_price</th>\n",
       "      <th>spenders</th>\n",
       "      <th>median_days</th>\n",
       "      <th>frequency_flag</th>\n",
       "      <th>last_name</th>\n",
       "      <th>gender</th>\n",
       "      <th>state</th>\n",
       "      <th>age</th>\n",
       "      <th>date_joined</th>\n",
       "      <th>n_dependants</th>\n",
       "      <th>fam_status</th>\n",
       "      <th>income</th>\n",
       "      <th>_merge</th>\n",
       "    </tr>\n",
       "  </thead>\n",
       "  <tbody>\n",
       "    <tr>\n",
       "      <th>0</th>\n",
       "      <td>2539329</td>\n",
       "      <td>1</td>\n",
       "      <td>1</td>\n",
       "      <td>2</td>\n",
       "      <td>8</td>\n",
       "      <td>7.00</td>\n",
       "      <td>196</td>\n",
       "      <td>1</td>\n",
       "      <td>0</td>\n",
       "      <td>Soda</td>\n",
       "      <td>77</td>\n",
       "      <td>7</td>\n",
       "      <td>9.00</td>\n",
       "      <td>Mid-range product</td>\n",
       "      <td>Regularly busy</td>\n",
       "      <td>Regularly busy</td>\n",
       "      <td>Average orders</td>\n",
       "      <td>10</td>\n",
       "      <td>New customer</td>\n",
       "      <td>6.37</td>\n",
       "      <td>Low spender</td>\n",
       "      <td>20.00</td>\n",
       "      <td>Regular customer</td>\n",
       "      <td>Nguyen</td>\n",
       "      <td>Female</td>\n",
       "      <td>Alabama</td>\n",
       "      <td>31</td>\n",
       "      <td>2/17/2019</td>\n",
       "      <td>3</td>\n",
       "      <td>married</td>\n",
       "      <td>40423</td>\n",
       "      <td>both</td>\n",
       "    </tr>\n",
       "    <tr>\n",
       "      <th>1</th>\n",
       "      <td>2398795</td>\n",
       "      <td>1</td>\n",
       "      <td>2</td>\n",
       "      <td>3</td>\n",
       "      <td>7</td>\n",
       "      <td>15.00</td>\n",
       "      <td>196</td>\n",
       "      <td>1</td>\n",
       "      <td>1</td>\n",
       "      <td>Soda</td>\n",
       "      <td>77</td>\n",
       "      <td>7</td>\n",
       "      <td>9.00</td>\n",
       "      <td>Mid-range product</td>\n",
       "      <td>Regularly busy</td>\n",
       "      <td>Least busiest days</td>\n",
       "      <td>Average orders</td>\n",
       "      <td>10</td>\n",
       "      <td>New customer</td>\n",
       "      <td>6.37</td>\n",
       "      <td>Low spender</td>\n",
       "      <td>20.00</td>\n",
       "      <td>Regular customer</td>\n",
       "      <td>Nguyen</td>\n",
       "      <td>Female</td>\n",
       "      <td>Alabama</td>\n",
       "      <td>31</td>\n",
       "      <td>2/17/2019</td>\n",
       "      <td>3</td>\n",
       "      <td>married</td>\n",
       "      <td>40423</td>\n",
       "      <td>both</td>\n",
       "    </tr>\n",
       "    <tr>\n",
       "      <th>2</th>\n",
       "      <td>473747</td>\n",
       "      <td>1</td>\n",
       "      <td>3</td>\n",
       "      <td>3</td>\n",
       "      <td>12</td>\n",
       "      <td>21.00</td>\n",
       "      <td>196</td>\n",
       "      <td>1</td>\n",
       "      <td>1</td>\n",
       "      <td>Soda</td>\n",
       "      <td>77</td>\n",
       "      <td>7</td>\n",
       "      <td>9.00</td>\n",
       "      <td>Mid-range product</td>\n",
       "      <td>Regularly busy</td>\n",
       "      <td>Least busiest days</td>\n",
       "      <td>Average orders</td>\n",
       "      <td>10</td>\n",
       "      <td>New customer</td>\n",
       "      <td>6.37</td>\n",
       "      <td>Low spender</td>\n",
       "      <td>20.00</td>\n",
       "      <td>Regular customer</td>\n",
       "      <td>Nguyen</td>\n",
       "      <td>Female</td>\n",
       "      <td>Alabama</td>\n",
       "      <td>31</td>\n",
       "      <td>2/17/2019</td>\n",
       "      <td>3</td>\n",
       "      <td>married</td>\n",
       "      <td>40423</td>\n",
       "      <td>both</td>\n",
       "    </tr>\n",
       "    <tr>\n",
       "      <th>3</th>\n",
       "      <td>2254736</td>\n",
       "      <td>1</td>\n",
       "      <td>4</td>\n",
       "      <td>4</td>\n",
       "      <td>7</td>\n",
       "      <td>29.00</td>\n",
       "      <td>196</td>\n",
       "      <td>1</td>\n",
       "      <td>1</td>\n",
       "      <td>Soda</td>\n",
       "      <td>77</td>\n",
       "      <td>7</td>\n",
       "      <td>9.00</td>\n",
       "      <td>Mid-range product</td>\n",
       "      <td>Least busy</td>\n",
       "      <td>Least busiest days</td>\n",
       "      <td>Average orders</td>\n",
       "      <td>10</td>\n",
       "      <td>New customer</td>\n",
       "      <td>6.37</td>\n",
       "      <td>Low spender</td>\n",
       "      <td>20.00</td>\n",
       "      <td>Regular customer</td>\n",
       "      <td>Nguyen</td>\n",
       "      <td>Female</td>\n",
       "      <td>Alabama</td>\n",
       "      <td>31</td>\n",
       "      <td>2/17/2019</td>\n",
       "      <td>3</td>\n",
       "      <td>married</td>\n",
       "      <td>40423</td>\n",
       "      <td>both</td>\n",
       "    </tr>\n",
       "    <tr>\n",
       "      <th>4</th>\n",
       "      <td>431534</td>\n",
       "      <td>1</td>\n",
       "      <td>5</td>\n",
       "      <td>4</td>\n",
       "      <td>15</td>\n",
       "      <td>28.00</td>\n",
       "      <td>196</td>\n",
       "      <td>1</td>\n",
       "      <td>1</td>\n",
       "      <td>Soda</td>\n",
       "      <td>77</td>\n",
       "      <td>7</td>\n",
       "      <td>9.00</td>\n",
       "      <td>Mid-range product</td>\n",
       "      <td>Least busy</td>\n",
       "      <td>Least busiest days</td>\n",
       "      <td>Most orders</td>\n",
       "      <td>10</td>\n",
       "      <td>New customer</td>\n",
       "      <td>6.37</td>\n",
       "      <td>Low spender</td>\n",
       "      <td>20.00</td>\n",
       "      <td>Regular customer</td>\n",
       "      <td>Nguyen</td>\n",
       "      <td>Female</td>\n",
       "      <td>Alabama</td>\n",
       "      <td>31</td>\n",
       "      <td>2/17/2019</td>\n",
       "      <td>3</td>\n",
       "      <td>married</td>\n",
       "      <td>40423</td>\n",
       "      <td>both</td>\n",
       "    </tr>\n",
       "  </tbody>\n",
       "</table>\n",
       "</div>"
      ],
      "text/plain": [
       "   order_id  user_id  order_number  orders_day_of_week  order_hour_of_day  \\\n",
       "0   2539329        1             1                   2                  8   \n",
       "1   2398795        1             2                   3                  7   \n",
       "2    473747        1             3                   3                 12   \n",
       "3   2254736        1             4                   4                  7   \n",
       "4    431534        1             5                   4                 15   \n",
       "\n",
       "   days_since_prior_order  product_id  add_to_cart_order  reordered  \\\n",
       "0                    7.00         196                  1          0   \n",
       "1                   15.00         196                  1          1   \n",
       "2                   21.00         196                  1          1   \n",
       "3                   29.00         196                  1          1   \n",
       "4                   28.00         196                  1          1   \n",
       "\n",
       "  product_name  aisle_id  department_id  prices    price_range_loc  \\\n",
       "0         Soda        77              7    9.00  Mid-range product   \n",
       "1         Soda        77              7    9.00  Mid-range product   \n",
       "2         Soda        77              7    9.00  Mid-range product   \n",
       "3         Soda        77              7    9.00  Mid-range product   \n",
       "4         Soda        77              7    9.00  Mid-range product   \n",
       "\n",
       "      busiest_day        busiest_days busiest_period_of_day  max_order  \\\n",
       "0  Regularly busy      Regularly busy        Average orders         10   \n",
       "1  Regularly busy  Least busiest days        Average orders         10   \n",
       "2  Regularly busy  Least busiest days        Average orders         10   \n",
       "3      Least busy  Least busiest days        Average orders         10   \n",
       "4      Least busy  Least busiest days           Most orders         10   \n",
       "\n",
       "   loyalty_flag  mean_price     spenders  median_days    frequency_flag  \\\n",
       "0  New customer        6.37  Low spender        20.00  Regular customer   \n",
       "1  New customer        6.37  Low spender        20.00  Regular customer   \n",
       "2  New customer        6.37  Low spender        20.00  Regular customer   \n",
       "3  New customer        6.37  Low spender        20.00  Regular customer   \n",
       "4  New customer        6.37  Low spender        20.00  Regular customer   \n",
       "\n",
       "  last_name  gender    state  age date_joined  n_dependants fam_status  \\\n",
       "0    Nguyen  Female  Alabama   31   2/17/2019             3    married   \n",
       "1    Nguyen  Female  Alabama   31   2/17/2019             3    married   \n",
       "2    Nguyen  Female  Alabama   31   2/17/2019             3    married   \n",
       "3    Nguyen  Female  Alabama   31   2/17/2019             3    married   \n",
       "4    Nguyen  Female  Alabama   31   2/17/2019             3    married   \n",
       "\n",
       "   income _merge  \n",
       "0   40423   both  \n",
       "1   40423   both  \n",
       "2   40423   both  \n",
       "3   40423   both  \n",
       "4   40423   both  "
      ]
     },
     "execution_count": 29,
     "metadata": {},
     "output_type": "execute_result"
    }
   ],
   "source": [
    "# Looking at the whole dataset\n",
    "\n",
    "merged_all.head()"
   ]
  },
  {
   "cell_type": "code",
   "execution_count": 44,
   "id": "27569182",
   "metadata": {},
   "outputs": [
    {
     "data": {
      "text/html": [
       "<div>\n",
       "<style scoped>\n",
       "    .dataframe tbody tr th:only-of-type {\n",
       "        vertical-align: middle;\n",
       "    }\n",
       "\n",
       "    .dataframe tbody tr th {\n",
       "        vertical-align: top;\n",
       "    }\n",
       "\n",
       "    .dataframe thead th {\n",
       "        text-align: right;\n",
       "    }\n",
       "</style>\n",
       "<table border=\"1\" class=\"dataframe\">\n",
       "  <thead>\n",
       "    <tr style=\"text-align: right;\">\n",
       "      <th></th>\n",
       "      <th>user_id</th>\n",
       "      <th>prices</th>\n",
       "      <th>price_range_loc</th>\n",
       "      <th>loyalty_flag</th>\n",
       "      <th>spenders</th>\n",
       "      <th>gender</th>\n",
       "      <th>state</th>\n",
       "      <th>age</th>\n",
       "      <th>n_dependants</th>\n",
       "      <th>fam_status</th>\n",
       "      <th>income</th>\n",
       "    </tr>\n",
       "  </thead>\n",
       "  <tbody>\n",
       "    <tr>\n",
       "      <th>0</th>\n",
       "      <td>1</td>\n",
       "      <td>9.00</td>\n",
       "      <td>Mid-range product</td>\n",
       "      <td>New customer</td>\n",
       "      <td>Low spender</td>\n",
       "      <td>Female</td>\n",
       "      <td>Alabama</td>\n",
       "      <td>31</td>\n",
       "      <td>3</td>\n",
       "      <td>married</td>\n",
       "      <td>40423</td>\n",
       "    </tr>\n",
       "    <tr>\n",
       "      <th>2</th>\n",
       "      <td>1</td>\n",
       "      <td>9.00</td>\n",
       "      <td>Mid-range product</td>\n",
       "      <td>New customer</td>\n",
       "      <td>Low spender</td>\n",
       "      <td>Female</td>\n",
       "      <td>Alabama</td>\n",
       "      <td>31</td>\n",
       "      <td>3</td>\n",
       "      <td>married</td>\n",
       "      <td>40423</td>\n",
       "    </tr>\n",
       "    <tr>\n",
       "      <th>3</th>\n",
       "      <td>1</td>\n",
       "      <td>9.00</td>\n",
       "      <td>Mid-range product</td>\n",
       "      <td>New customer</td>\n",
       "      <td>Low spender</td>\n",
       "      <td>Female</td>\n",
       "      <td>Alabama</td>\n",
       "      <td>31</td>\n",
       "      <td>3</td>\n",
       "      <td>married</td>\n",
       "      <td>40423</td>\n",
       "    </tr>\n",
       "    <tr>\n",
       "      <th>6</th>\n",
       "      <td>1</td>\n",
       "      <td>9.00</td>\n",
       "      <td>Mid-range product</td>\n",
       "      <td>New customer</td>\n",
       "      <td>Low spender</td>\n",
       "      <td>Female</td>\n",
       "      <td>Alabama</td>\n",
       "      <td>31</td>\n",
       "      <td>3</td>\n",
       "      <td>married</td>\n",
       "      <td>40423</td>\n",
       "    </tr>\n",
       "    <tr>\n",
       "      <th>10</th>\n",
       "      <td>1</td>\n",
       "      <td>12.50</td>\n",
       "      <td>Mid-range product</td>\n",
       "      <td>New customer</td>\n",
       "      <td>Low spender</td>\n",
       "      <td>Female</td>\n",
       "      <td>Alabama</td>\n",
       "      <td>31</td>\n",
       "      <td>3</td>\n",
       "      <td>married</td>\n",
       "      <td>40423</td>\n",
       "    </tr>\n",
       "  </tbody>\n",
       "</table>\n",
       "</div>"
      ],
      "text/plain": [
       "    user_id  prices    price_range_loc  loyalty_flag     spenders  gender  \\\n",
       "0         1    9.00  Mid-range product  New customer  Low spender  Female   \n",
       "2         1    9.00  Mid-range product  New customer  Low spender  Female   \n",
       "3         1    9.00  Mid-range product  New customer  Low spender  Female   \n",
       "6         1    9.00  Mid-range product  New customer  Low spender  Female   \n",
       "10        1   12.50  Mid-range product  New customer  Low spender  Female   \n",
       "\n",
       "      state  age  n_dependants fam_status  income  \n",
       "0   Alabama   31             3    married   40423  \n",
       "2   Alabama   31             3    married   40423  \n",
       "3   Alabama   31             3    married   40423  \n",
       "6   Alabama   31             3    married   40423  \n",
       "10  Alabama   31             3    married   40423  "
      ]
     },
     "execution_count": 44,
     "metadata": {},
     "output_type": "execute_result"
    }
   ],
   "source": [
    "# Create a separate df for demographic analysis\n",
    "df_demo = small[['user_id','prices','price_range_loc','loyalty_flag','spenders','gender','state','age','n_dependants','fam_status','income']]\n",
    "\n",
    "# Check the output\n",
    "df_demo.head()"
   ]
  },
  {
   "cell_type": "markdown",
   "id": "7030982c",
   "metadata": {},
   "source": [
    "#### 01: Connection between age and family situation"
   ]
  },
  {
   "cell_type": "markdown",
   "id": "2a03dacd",
   "metadata": {},
   "source": [
    "- creating a line chart exploring the connections between age and number of dependents"
   ]
  },
  {
   "cell_type": "code",
   "execution_count": 37,
   "id": "ee8c10db",
   "metadata": {},
   "outputs": [
    {
     "data": {
      "text/html": [
       "<div>\n",
       "<style scoped>\n",
       "    .dataframe tbody tr th:only-of-type {\n",
       "        vertical-align: middle;\n",
       "    }\n",
       "\n",
       "    .dataframe tbody tr th {\n",
       "        vertical-align: top;\n",
       "    }\n",
       "\n",
       "    .dataframe thead th {\n",
       "        text-align: right;\n",
       "    }\n",
       "</style>\n",
       "<table border=\"1\" class=\"dataframe\">\n",
       "  <thead>\n",
       "    <tr style=\"text-align: right;\">\n",
       "      <th></th>\n",
       "      <th>age</th>\n",
       "      <th>n_dependants</th>\n",
       "    </tr>\n",
       "  </thead>\n",
       "  <tbody>\n",
       "    <tr>\n",
       "      <th>count</th>\n",
       "      <td>9721098.00</td>\n",
       "      <td>9721098.00</td>\n",
       "    </tr>\n",
       "    <tr>\n",
       "      <th>mean</th>\n",
       "      <td>49.46</td>\n",
       "      <td>1.50</td>\n",
       "    </tr>\n",
       "    <tr>\n",
       "      <th>std</th>\n",
       "      <td>18.49</td>\n",
       "      <td>1.12</td>\n",
       "    </tr>\n",
       "    <tr>\n",
       "      <th>min</th>\n",
       "      <td>18.00</td>\n",
       "      <td>0.00</td>\n",
       "    </tr>\n",
       "    <tr>\n",
       "      <th>25%</th>\n",
       "      <td>33.00</td>\n",
       "      <td>1.00</td>\n",
       "    </tr>\n",
       "    <tr>\n",
       "      <th>50%</th>\n",
       "      <td>49.00</td>\n",
       "      <td>2.00</td>\n",
       "    </tr>\n",
       "    <tr>\n",
       "      <th>75%</th>\n",
       "      <td>65.00</td>\n",
       "      <td>3.00</td>\n",
       "    </tr>\n",
       "    <tr>\n",
       "      <th>max</th>\n",
       "      <td>81.00</td>\n",
       "      <td>3.00</td>\n",
       "    </tr>\n",
       "  </tbody>\n",
       "</table>\n",
       "</div>"
      ],
      "text/plain": [
       "             age  n_dependants\n",
       "count 9721098.00    9721098.00\n",
       "mean       49.46          1.50\n",
       "std        18.49          1.12\n",
       "min        18.00          0.00\n",
       "25%        33.00          1.00\n",
       "50%        49.00          2.00\n",
       "75%        65.00          3.00\n",
       "max        81.00          3.00"
      ]
     },
     "execution_count": 37,
     "metadata": {},
     "output_type": "execute_result"
    }
   ],
   "source": [
    "# Exploring the variables number of dependents and age groups\n",
    "\n",
    "df_demo[['age','n_dependants']].describe()"
   ]
  },
  {
   "cell_type": "code",
   "execution_count": 38,
   "id": "7d4a644b",
   "metadata": {},
   "outputs": [
    {
     "data": {
      "image/png": "[encoded data removed]",
      "text/plain": [
       "<Figure size 640x480 with 1 Axes>"
      ]
     },
     "metadata": {},
     "output_type": "display_data"
    }
   ],
   "source": [
    "# Creating a detailled line chart \n",
    "\n",
    "line_age_depend = sns.lineplot(data = df_demo, x = 'age',y = 'n_dependants')\n",
    "\n",
    "# Setting the y-axis limits to 0-4\n",
    "plt.ylim(0, 4)\n",
    "\n",
    "# Adding title and labels to the line chart\n",
    "\n",
    "plt.title(\"Connections between age and number of dependents\")\n",
    "plt.xlabel(\"Age\")\n",
    "plt.ylabel(\"Number of dependents\")\n",
    "\n",
    "\n",
    "# Change the roration on x-axes\n",
    "plt.xticks(rotation=0)\n",
    "\n",
    "# Show the histogram\n",
    "plt.show()"
   ]
  },
  {
   "cell_type": "code",
   "execution_count": 42,
   "id": "6042388e",
   "metadata": {},
   "outputs": [
    {
     "name": "stdout",
     "output_type": "stream",
     "text": [
      "Correlation between age and number of dependents: -0.0002531725792682872\n"
     ]
    }
   ],
   "source": [
    "# Calculation of correlation between variables number of dependents and age\n",
    "\n",
    "corr_age_n_dep = df_demo['age'].corr(df_demo['n_dependants'])\n",
    "print(\"Correlation between age and number of dependents:\", corr_age_n_dep)"
   ]
  },
  {
   "cell_type": "markdown",
   "id": "a89891d4",
   "metadata": {},
   "source": [
    "#### Description\n",
    "\n",
    "- No correlation between variables number of dependents and age groups was found(r=-0.00025)\n",
    "- There is no relationship between age and number of dependents"
   ]
  },
  {
   "cell_type": "code",
   "execution_count": 48,
   "id": "d8dc5389",
   "metadata": {},
   "outputs": [],
   "source": [
    "# Exporting line chart\n",
    "\n",
    "line_age_depend.figure.savefig(os.path.join(path, '04 Analysis','041 Visualizations', 'line_age_depend.png'))"
   ]
  },
  {
   "cell_type": "markdown",
   "id": "971fcc43",
   "metadata": {},
   "source": [
    "#### 02: Testing other possible correlation"
   ]
  },
  {
   "cell_type": "code",
   "execution_count": 47,
   "id": "8a9b42fc",
   "metadata": {},
   "outputs": [
    {
     "name": "stdout",
     "output_type": "stream",
     "text": [
      "Correlation between age and income: 0.41736162324679454\n",
      "Correlation between age and product prices: 0.0007538112837887954\n",
      "Correlation between cusomers income and product prices: 0.0007538112837887954\n"
     ]
    }
   ],
   "source": [
    "# Calculation of correlation between variables\n",
    "\n",
    "corr_age_income = df_demo['age'].corr(df_demo['income'])\n",
    "corr_age_prices = df_demo['age'].corr(df_demo['prices'])\n",
    "corr_income_prices = df_demo['income'].corr(df_demo['prices'])\n",
    "\n",
    "print(\"Correlation between age and income:\", corr_age_income)\n",
    "print(\"Correlation between age and product prices:\", corr_age_prices)\n",
    "print(\"Correlation between cusomers income and product prices:\", corr_age_prices)"
   ]
  },
  {
   "cell_type": "markdown",
   "id": "2c80d5e2",
   "metadata": {},
   "source": [
    "- A small correlation between age and income of the customers was found (r=0.42)."
   ]
  },
  {
   "cell_type": "markdown",
   "id": "e608540a",
   "metadata": {},
   "source": [
    "## 05. Connection between age and spending power (income)"
   ]
  },
  {
   "cell_type": "code",
   "execution_count": 49,
   "id": "16aca974",
   "metadata": {},
   "outputs": [],
   "source": [
    "# Check the ouliers where the price is above 100$\n",
    "df_demo.loc[df_demo['prices'] > 100]\n",
    "\n",
    "# Turning the unexpected values to NaN\n",
    "df_demo.loc[df_demo['prices'] >100, 'prices'] = np.nan"
   ]
  },
  {
   "cell_type": "code",
   "execution_count": 59,
   "id": "8de74b32",
   "metadata": {},
   "outputs": [
    {
     "data": {
      "image/png": "[encoded data removed]",
      "text/plain": [
       "<Figure size 640x480 with 1 Axes>"
      ]
     },
     "metadata": {},
     "output_type": "display_data"
    }
   ],
   "source": [
    "# Creating a scatterplot without outliers\n",
    "scatter_age_income = plt.scatter(df_demo['age'], df_demo['income'])\n",
    "plt.xlabel('Age')\n",
    "plt.ylabel('Income')\n",
    "plt.title('Scatter Plot: Age vs. Income')\n",
    "plt.show()\n",
    "\n",
    "# Show the histogram\n",
    "plt.show()"
   ]
  },
  {
   "cell_type": "markdown",
   "id": "85dcc9e0",
   "metadata": {},
   "source": [
    "#### Description\n",
    "\n",
    "- Based on visualisation, an increase in income after the age of 40 has been identified (based on the maximum values from 400,000 to 600,000) "
   ]
  },
  {
   "cell_type": "code",
   "execution_count": 61,
   "id": "5e2d7cbe",
   "metadata": {},
   "outputs": [],
   "source": [
    "# Exporting scatterplot\n",
    "\n",
    "scatter_age_income.figure.savefig(os.path.join(path, '04 Analysis','041 Visualizations', 'scatter_age_income.png'))"
   ]
  }
 ],
 "metadata": {
  "kernelspec": {
   "display_name": "Python 3 (ipykernel)",
   "language": "python",
   "name": "python3"
  },
  "language_info": {
   "codemirror_mode": {
    "name": "ipython",
    "version": 3
   },
   "file_extension": ".py",
   "mimetype": "text/x-python",
   "name": "python",
   "nbconvert_exporter": "python",
   "pygments_lexer": "ipython3",
   "version": "3.11.3"
  }
 },
 "nbformat": 4,
 "nbformat_minor": 5
}
